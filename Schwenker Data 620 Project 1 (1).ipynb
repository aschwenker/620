{
 "cells": [
  {
   "cell_type": "code",
   "execution_count": 16,
   "metadata": {},
   "outputs": [],
   "source": [
    "import pandas as pd\n",
    "import matplotlib.pyplot as plt\n",
    "import networkx as nx"
   ]
  },
  {
   "cell_type": "markdown",
   "metadata": {},
   "source": [
    "I selected a dataset that shows the relationships between comics and heros based on whether the hero is featured in the comic. THe idea was to look at those relationships and see if the comic or the hero was more central, meaning do more heros show up in multiple comics or does the comic relate more frequently to the heroes."
   ]
  },
  {
   "cell_type": "code",
   "execution_count": 20,
   "metadata": {},
   "outputs": [],
   "source": [
    "\n",
    "data=pd.read_csv(\"https://raw.githubusercontent.com/aschwenker/620/master/hero_edges.csv\")\n",
    "comics = list((set(data.comic)))\n",
    "subset = comics[0:10]\n",
    "edge_data = data.loc[(data[\"comic\"].isin(subset))]\n",
    "heros = list((set(edge_data.hero)))\n",
    "\n",
    "edge_data_list = list(edge_data.itertuples(index=False, name=None))\n",
    "G = nx.Graph()\n",
    "\n",
    "G.add_edges_from(edge_data_list)\n",
    "nodes = heros+subset\n",
    "data=pd.read_csv(\"https://raw.githubusercontent.com/aschwenker/620/master/hero_nodes.csv\")\n",
    "node_data = data.loc[(data[\"node\"].isin(nodes))]\n",
    "#node_data = node_data[[\"node\"]]\n",
    "node_data_list = list(node_data.itertuples(index=False, name=None))\n",
    "G.add_nodes_from(node_data_list)"
   ]
  },
  {
   "cell_type": "markdown",
   "metadata": {},
   "source": [
    "I subset the initial dataset because running on the full set was causing memory errors, to do this I selected 10 of the comics and then selected any node related to that comic, ie the comics and the heroes associated to it"
   ]
  },
  {
   "cell_type": "code",
   "execution_count": 21,
   "metadata": {
    "scrolled": true
   },
   "outputs": [
    {
     "name": "stderr",
     "output_type": "stream",
     "text": [
      "C:\\Users\\aschwenker\\AppData\\Local\\Continuum\\anaconda3\\lib\\site-packages\\ipykernel_launcher.py:1: SettingWithCopyWarning: \n",
      "A value is trying to be set on a copy of a slice from a DataFrame.\n",
      "Try using .loc[row_indexer,col_indexer] = value instead\n",
      "\n",
      "See the caveats in the documentation: http://pandas.pydata.org/pandas-docs/stable/user_guide/indexing.html#returning-a-view-versus-a-copy\n",
      "  \"\"\"Entry point for launching an IPython kernel.\n",
      "C:\\Users\\aschwenker\\AppData\\Local\\Continuum\\anaconda3\\lib\\site-packages\\ipykernel_launcher.py:2: SettingWithCopyWarning: \n",
      "A value is trying to be set on a copy of a slice from a DataFrame.\n",
      "Try using .loc[row_indexer,col_indexer] = value instead\n",
      "\n",
      "See the caveats in the documentation: http://pandas.pydata.org/pandas-docs/stable/user_guide/indexing.html#returning-a-view-versus-a-copy\n",
      "  \n",
      "C:\\Users\\aschwenker\\AppData\\Local\\Continuum\\anaconda3\\lib\\site-packages\\ipykernel_launcher.py:3: SettingWithCopyWarning: \n",
      "A value is trying to be set on a copy of a slice from a DataFrame.\n",
      "Try using .loc[row_indexer,col_indexer] = value instead\n",
      "\n",
      "See the caveats in the documentation: http://pandas.pydata.org/pandas-docs/stable/user_guide/indexing.html#returning-a-view-versus-a-copy\n",
      "  This is separate from the ipykernel package so we can avoid doing imports until\n",
      "C:\\Users\\aschwenker\\AppData\\Local\\Continuum\\anaconda3\\lib\\site-packages\\ipykernel_launcher.py:4: SettingWithCopyWarning: \n",
      "A value is trying to be set on a copy of a slice from a DataFrame.\n",
      "Try using .loc[row_indexer,col_indexer] = value instead\n",
      "\n",
      "See the caveats in the documentation: http://pandas.pydata.org/pandas-docs/stable/user_guide/indexing.html#returning-a-view-versus-a-copy\n",
      "  after removing the cwd from sys.path.\n"
     ]
    },
    {
     "name": "stdout",
     "output_type": "stream",
     "text": [
      "    type    degcen  eigencen  closecen  betweencen\n",
      "0  comic  7.800000  0.124479  0.070470    0.022243\n",
      "1   hero  1.114286  0.059492  0.070249    0.001713\n"
     ]
    }
   ],
   "source": [
    "node_data['degcen'] = 0\n",
    "node_data['eigencen'] = 0\n",
    "node_data['closecen'] = 0\n",
    "node_data['betweencen'] = 0\n",
    "node_data.head()\n",
    "\n",
    "\n",
    "\n",
    "deg = nx.degree(G) \n",
    "eig = nx.eigenvector_centrality(G)\n",
    "clo = nx.closeness_centrality(G)\n",
    "btw = nx.betweenness_centrality(G)\n",
    "\n",
    "for index, row in node_data.iterrows():\n",
    "    node_data.loc[node_data['node'] == row['node'], 'degcen'] = deg[row['node']]\n",
    "    node_data.loc[node_data['node'] == row['node'], 'eigencen'] = eig[row['node']]\n",
    "    node_data.loc[node_data['node'] == row['node'], 'closecen'] = clo[row['node']]\n",
    "    node_data.loc[node_data['node'] == row['node'], 'betweencen'] = btw[row['node']]\n",
    "\n",
    "node_data_deg = node_data.groupby(\"type\")['degcen'].mean().reset_index()\n",
    "node_data_eig = node_data.groupby(\"type\")['eigencen'].mean().reset_index()\n",
    "node_data_clo = node_data.groupby(\"type\")['closecen'].mean().reset_index()\n",
    "node_data_btw = node_data.groupby(\"type\")['betweencen'].mean().reset_index()\n",
    "\n",
    "result = pd.concat([node_data_deg,node_data_eig,node_data_clo,node_data_btw],axis = 1)\n",
    "result = result.loc[:,~result.columns.duplicated()]\n",
    "print(result)"
   ]
  },
  {
   "cell_type": "markdown",
   "metadata": {},
   "source": [
    "I found the measures of center and then took the average for each category -- comic & hero. From this we can see the comic category average was much higher, which could be due to the sampling method I chose, in that I first picked comics and then the heroes associated, however, this would not account for the other comics that were related to the heros list, which would make the comics appear artifically more central."
   ]
  }
 ],
 "metadata": {
  "kernelspec": {
   "display_name": "Python 3",
   "language": "python",
   "name": "python3"
  },
  "language_info": {
   "codemirror_mode": {
    "name": "ipython",
    "version": 3
   },
   "file_extension": ".py",
   "mimetype": "text/x-python",
   "name": "python",
   "nbconvert_exporter": "python",
   "pygments_lexer": "ipython3",
   "version": "3.7.1"
  }
 },
 "nbformat": 4,
 "nbformat_minor": 2
}
