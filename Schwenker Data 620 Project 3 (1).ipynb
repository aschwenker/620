{
 "cells": [
  {
   "cell_type": "markdown",
   "metadata": {},
   "source": [
    "Using any of the three classifiers described in chapter 6 of Natural Language Processing with Python, and any features you can think of, build the best name gender classifier you can. Begin by splitting the Names Corpus into three subsets: 500 words for the test set, 500 words for the dev-test set, and the remaining 6900 words for the training set. Then, starting with the example name gender classifier, make incremental improvements. Use the dev-test set to check your progress. Once you are satisfied with your classifier, check its final performance on the test set. How does the performance on the test set compare to the performance on the dev-test set? Is this what you'd expect?\n",
    "\n",
    "Project is due 10/28.\n",
    "\n",
    "Source: Natural Language Processing with Python, exercise 6.10.2."
   ]
  },
  {
   "cell_type": "code",
   "execution_count": 98,
   "metadata": {},
   "outputs": [],
   "source": [
    "from nltk.corpus import names \n",
    "import pandas as pd\n",
    "import nltk\n",
    "import random\n"
   ]
  },
  {
   "cell_type": "markdown",
   "metadata": {},
   "source": [
    "below is a function created based on the text book with name length added as suggested"
   ]
  },
  {
   "cell_type": "code",
   "execution_count": 111,
   "metadata": {},
   "outputs": [],
   "source": [
    "def gender_features(word):\n",
    "    first_letter = word[0]\n",
    "    vowel_first_letter = first_letter in 'aeiou'\n",
    "    return {'last_letter':word[-1],'name_length':len(word)}\n"
   ]
  },
  {
   "cell_type": "code",
   "execution_count": 112,
   "metadata": {},
   "outputs": [],
   "source": [
    "name_list = ([(name, 'male') for name in names.words('male.txt')] + [(name,'female') for name in names.words('female.txt')])\n",
    "random.shuffle(name_list)\n"
   ]
  },
  {
   "cell_type": "markdown",
   "metadata": {},
   "source": [
    "Below is a dataframe used to explore different features of the names to see what other characteristics could improve the classifier"
   ]
  },
  {
   "cell_type": "code",
   "execution_count": 113,
   "metadata": {
    "scrolled": true
   },
   "outputs": [
    {
     "data": {
      "text/html": [
       "<div>\n",
       "<style scoped>\n",
       "    .dataframe tbody tr th:only-of-type {\n",
       "        vertical-align: middle;\n",
       "    }\n",
       "\n",
       "    .dataframe tbody tr th {\n",
       "        vertical-align: top;\n",
       "    }\n",
       "\n",
       "    .dataframe thead th {\n",
       "        text-align: right;\n",
       "    }\n",
       "</style>\n",
       "<table border=\"1\" class=\"dataframe\">\n",
       "  <thead>\n",
       "    <tr style=\"text-align: right;\">\n",
       "      <th></th>\n",
       "      <th>length</th>\n",
       "      <th>vowel_last_letter</th>\n",
       "      <th>vowel_first_letter</th>\n",
       "      <th>vowel_count</th>\n",
       "      <th>consonant_count</th>\n",
       "    </tr>\n",
       "    <tr>\n",
       "      <th>gender</th>\n",
       "      <th></th>\n",
       "      <th></th>\n",
       "      <th></th>\n",
       "      <th></th>\n",
       "      <th></th>\n",
       "    </tr>\n",
       "  </thead>\n",
       "  <tbody>\n",
       "    <tr>\n",
       "      <th>female</th>\n",
       "      <td>6.148994</td>\n",
       "      <td>0.724632</td>\n",
       "      <td>0.0</td>\n",
       "      <td>2.498029</td>\n",
       "      <td>3.650965</td>\n",
       "    </tr>\n",
       "    <tr>\n",
       "      <th>male</th>\n",
       "      <td>5.942029</td>\n",
       "      <td>0.234783</td>\n",
       "      <td>0.0</td>\n",
       "      <td>2.050000</td>\n",
       "      <td>3.892029</td>\n",
       "    </tr>\n",
       "  </tbody>\n",
       "</table>\n",
       "</div>"
      ],
      "text/plain": [
       "          length  vowel_last_letter  vowel_first_letter  vowel_count  \\\n",
       "gender                                                                 \n",
       "female  6.148994           0.724632                 0.0     2.498029   \n",
       "male    5.942029           0.234783                 0.0     2.050000   \n",
       "\n",
       "        consonant_count  \n",
       "gender                   \n",
       "female         3.650965  \n",
       "male           3.892029  "
      ]
     },
     "execution_count": 113,
     "metadata": {},
     "output_type": "execute_result"
    }
   ],
   "source": [
    "data = pd.DataFrame.from_dict(dict(name_list), orient='index', columns=['gender']).reset_index()\n",
    "data.columns = ['name', 'gender']\n",
    "\n",
    "data['length'] = data['name'].str.len()\n",
    "data['first_letter'] = data['name'].str[0]\n",
    "data['last_letter'] = data['name'].str[-1]\n",
    "\n",
    "data['vowel_last_letter'] = data['last_letter'].isin([*'aeiou'])\n",
    "data['vowel_first_letter'] = data['first_letter'].isin([*'aeiou'])\n",
    "data['vowels'] = data['name'].str.replace(r'[^aeiou]', '')\n",
    "data['consonants'] = data['name'].str.replace(r'[aeiou]', '')\n",
    "data['vowel_count'] = data['vowels'].str.len()\n",
    "data['consonant_count'] = data['consonants'].str.len()\n",
    "data.head()\n",
    "data.groupby('gender').mean()\n",
    "\n"
   ]
  },
  {
   "cell_type": "markdown",
   "metadata": {},
   "source": [
    "next the function created is tested"
   ]
  },
  {
   "cell_type": "code",
   "execution_count": 114,
   "metadata": {},
   "outputs": [
    {
     "name": "stdout",
     "output_type": "stream",
     "text": [
      "0.7345309381237525\n",
      "Most Informative Features\n",
      "             last_letter = 'k'              male : female =     42.2 : 1.0\n",
      "             last_letter = 'a'            female : male   =     34.7 : 1.0\n",
      "             last_letter = 'p'              male : female =     17.4 : 1.0\n",
      "             last_letter = 'f'              male : female =     16.5 : 1.0\n",
      "             last_letter = 'd'              male : female =     10.2 : 1.0\n",
      "None\n"
     ]
    }
   ],
   "source": [
    "featuresets = [(gender_features(n),g) for (n,g) in name_list]\n",
    "test_names = name_list[500:]\n",
    "dev_test_names = name_list[501:1002]\n",
    "train_names = name_list[1003:]\n",
    "test_set, dev_test_set,train_set = featuresets[500:],featuresets[501:1002],featuresets[1003:]\n",
    "classifier = nltk.NaiveBayesClassifier.train(train_set)\n",
    "print(nltk.classify.accuracy(classifier,dev_test_set))\n",
    "print(classifier.show_most_informative_features(5))"
   ]
  },
  {
   "cell_type": "markdown",
   "metadata": {},
   "source": [
    "the errors are printed to review for patterns"
   ]
  },
  {
   "cell_type": "code",
   "execution_count": 115,
   "metadata": {
    "scrolled": true
   },
   "outputs": [
    {
     "name": "stdout",
     "output_type": "stream",
     "text": [
      "[('female', 'male', 'Sharleen'), ('male', 'female', 'Wesley'), ('male', 'female', 'Kendall'), ('female', 'male', 'Michal'), ('female', 'male', 'Wynn'), ('male', 'female', 'Jessie'), ('female', 'male', 'Marillin'), ('female', 'male', 'Jannel'), ('male', 'female', 'Parnell'), ('female', 'male', 'Avril'), ('female', 'male', 'Rosamund'), ('male', 'female', 'Alley'), ('male', 'female', 'Chauncey'), ('male', 'female', 'Bucky'), ('male', 'female', 'Murray'), ('female', 'male', 'Alleen'), ('female', 'male', 'Austin'), ('male', 'female', 'Willey'), ('female', 'male', 'Janis'), ('male', 'female', 'Piggy')]\n"
     ]
    }
   ],
   "source": [
    "errors = []\n",
    "for (name, tag) in dev_test_names:\n",
    "    guess = classifier.classify(gender_features(name))\n",
    "    if guess != tag:\n",
    "        errors.append((tag,guess,name))\n",
    "print(errors[:20])\n"
   ]
  },
  {
   "cell_type": "markdown",
   "metadata": {},
   "source": [
    "based on the dataframe characteristics were added to the function and retested"
   ]
  },
  {
   "cell_type": "code",
   "execution_count": 104,
   "metadata": {},
   "outputs": [],
   "source": [
    "def gender_features(word):\n",
    "    first_letter = word[0]\n",
    "    vowel_first_letter = first_letter in 'aeiou'\n",
    "    return {'last_letter':word[-1],'name_length':len(word),'first_letter':word[0],'vowel_first_letter': vowel_first_letter}\n",
    "\n",
    "\n"
   ]
  },
  {
   "cell_type": "code",
   "execution_count": 105,
   "metadata": {},
   "outputs": [
    {
     "name": "stdout",
     "output_type": "stream",
     "text": [
      "0.7784431137724551\n",
      "Most Informative Features\n",
      "             last_letter = 'a'            female : male   =     34.4 : 1.0\n",
      "             last_letter = 'k'              male : female =     32.1 : 1.0\n",
      "             last_letter = 'f'              male : female =     23.4 : 1.0\n",
      "             last_letter = 'v'              male : female =     15.4 : 1.0\n",
      "             last_letter = 'p'              male : female =     10.6 : 1.0\n",
      "None\n"
     ]
    }
   ],
   "source": [
    "name_list = ([(name, 'male') for name in names.words('male.txt')] + [(name,'female') for name in names.words('female.txt')])\n",
    "random.shuffle(name_list)\n",
    "\n",
    "featuresets = [(gender_features(n),g) for (n,g) in name_list]\n",
    "test_names = name_list[500:]\n",
    "dev_test_names = name_list[501:1002]\n",
    "train_names = name_list[1003:]\n",
    "test_set, dev_test_set,train_set = featuresets[500:],featuresets[501:1002],featuresets[1003:]\n",
    "classifier = nltk.NaiveBayesClassifier.train(train_set)\n",
    "print(nltk.classify.accuracy(classifier,dev_test_set))\n",
    "print(classifier.show_most_informative_features(5))"
   ]
  },
  {
   "cell_type": "code",
   "execution_count": 106,
   "metadata": {
    "scrolled": true
   },
   "outputs": [
    {
     "name": "stdout",
     "output_type": "stream",
     "text": [
      "[('female', 'male', 'Clio'), ('female', 'male', 'Chloris'), ('female', 'male', 'Dian'), ('male', 'female', 'Brodie'), ('male', 'female', 'Ricky'), ('female', 'male', 'Eden'), ('male', 'female', 'Griffith'), ('female', 'male', 'Talyah'), ('female', 'male', 'Jonis'), ('female', 'male', 'Mel'), ('female', 'male', 'Rosamund'), ('male', 'female', 'Lay'), ('male', 'female', 'Rudie'), ('male', 'female', 'Logan'), ('male', 'female', 'Vinny'), ('male', 'female', 'Carson'), ('male', 'female', 'Geoffrey'), ('male', 'female', 'Aubrey'), ('male', 'female', 'Jeramie'), ('male', 'female', 'Agustin')]\n"
     ]
    }
   ],
   "source": [
    "errors = []\n",
    "for (name, tag) in dev_test_names:\n",
    "    guess = classifier.classify(gender_features(name))\n",
    "    if guess != tag:\n",
    "        errors.append((tag,guess,name))\n",
    "print(errors[:20])\n"
   ]
  },
  {
   "cell_type": "markdown",
   "metadata": {},
   "source": [
    "based on the errors other characteristics are reviewed and added to see if they improve the classifier"
   ]
  },
  {
   "cell_type": "code",
   "execution_count": 107,
   "metadata": {},
   "outputs": [
    {
     "data": {
      "text/html": [
       "<div>\n",
       "<style scoped>\n",
       "    .dataframe tbody tr th:only-of-type {\n",
       "        vertical-align: middle;\n",
       "    }\n",
       "\n",
       "    .dataframe tbody tr th {\n",
       "        vertical-align: top;\n",
       "    }\n",
       "\n",
       "    .dataframe thead th {\n",
       "        text-align: right;\n",
       "    }\n",
       "</style>\n",
       "<table border=\"1\" class=\"dataframe\">\n",
       "  <thead>\n",
       "    <tr style=\"text-align: right;\">\n",
       "      <th></th>\n",
       "      <th>length</th>\n",
       "      <th>vowel_last_letter</th>\n",
       "      <th>vowel_first_letter</th>\n",
       "      <th>vowel_count</th>\n",
       "      <th>consonant_count</th>\n",
       "      <th>vowel_second_last_letter</th>\n",
       "    </tr>\n",
       "    <tr>\n",
       "      <th>gender</th>\n",
       "      <th></th>\n",
       "      <th></th>\n",
       "      <th></th>\n",
       "      <th></th>\n",
       "      <th></th>\n",
       "      <th></th>\n",
       "    </tr>\n",
       "  </thead>\n",
       "  <tbody>\n",
       "    <tr>\n",
       "      <th>female</th>\n",
       "      <td>6.113777</td>\n",
       "      <td>0.712058</td>\n",
       "      <td>0.0</td>\n",
       "      <td>2.475705</td>\n",
       "      <td>3.638072</td>\n",
       "      <td>0.320736</td>\n",
       "    </tr>\n",
       "    <tr>\n",
       "      <th>male</th>\n",
       "      <td>5.995733</td>\n",
       "      <td>0.224593</td>\n",
       "      <td>0.0</td>\n",
       "      <td>2.061676</td>\n",
       "      <td>3.934057</td>\n",
       "      <td>0.549263</td>\n",
       "    </tr>\n",
       "  </tbody>\n",
       "</table>\n",
       "</div>"
      ],
      "text/plain": [
       "          length  vowel_last_letter  vowel_first_letter  vowel_count  \\\n",
       "gender                                                                 \n",
       "female  6.113777           0.712058                 0.0     2.475705   \n",
       "male    5.995733           0.224593                 0.0     2.061676   \n",
       "\n",
       "        consonant_count  vowel_second_last_letter  \n",
       "gender                                             \n",
       "female         3.638072                  0.320736  \n",
       "male           3.934057                  0.549263  "
      ]
     },
     "execution_count": 107,
     "metadata": {},
     "output_type": "execute_result"
    }
   ],
   "source": [
    "data['second_last_letter'] = data['name'].str[-2]\n",
    "data['vowel_second_last_letter'] = data['second_last_letter'].isin([*'aeiou'])\n",
    "data.groupby('gender').mean()\n"
   ]
  },
  {
   "cell_type": "code",
   "execution_count": 108,
   "metadata": {},
   "outputs": [],
   "source": [
    "def gender_features(word):\n",
    "    first_letter = word[0]\n",
    "    vowel_first_letter = first_letter in 'aeiou'\n",
    "    second_last = word[-2]\n",
    "    vowel_second_last = second_last in 'aeiou'\n",
    "    return {'last_letter':word[-1],'name_length':len(word),'first_letter':word[0],'vowel_first_letter': vowel_first_letter,'vowel_second_last':vowel_second_last}\n",
    "\n",
    "\n"
   ]
  },
  {
   "cell_type": "code",
   "execution_count": 109,
   "metadata": {},
   "outputs": [
    {
     "name": "stdout",
     "output_type": "stream",
     "text": [
      "0.7884231536926147\n",
      "Most Informative Features\n",
      "             last_letter = 'a'            female : male   =     36.9 : 1.0\n",
      "             last_letter = 'k'              male : female =     31.2 : 1.0\n",
      "             last_letter = 'f'              male : female =     16.6 : 1.0\n",
      "             last_letter = 'p'              male : female =     10.5 : 1.0\n",
      "             last_letter = 'd'              male : female =      9.4 : 1.0\n",
      "None\n"
     ]
    }
   ],
   "source": [
    "name_list = ([(name, 'male') for name in names.words('male.txt')] + [(name,'female') for name in names.words('female.txt')])\n",
    "random.shuffle(name_list)\n",
    "\n",
    "featuresets = [(gender_features(n),g) for (n,g) in name_list]\n",
    "test_names = name_list[500:]\n",
    "dev_test_names = name_list[501:1002]\n",
    "train_names = name_list[1003:]\n",
    "test_set, dev_test_set,train_set = featuresets[500:],featuresets[501:1002],featuresets[1003:]\n",
    "classifier = nltk.NaiveBayesClassifier.train(train_set)\n",
    "print(nltk.classify.accuracy(classifier,dev_test_set))\n",
    "print(classifier.show_most_informative_features(5))"
   ]
  },
  {
   "cell_type": "code",
   "execution_count": 110,
   "metadata": {},
   "outputs": [
    {
     "name": "stdout",
     "output_type": "stream",
     "text": [
      "0.7884231536926147\n",
      "0.7798226759806556\n"
     ]
    }
   ],
   "source": [
    "print(nltk.classify.accuracy(classifier,dev_test_set))\n",
    "print(nltk.classify.accuracy(classifier,test_set))\n"
   ]
  },
  {
   "cell_type": "markdown",
   "metadata": {},
   "source": [
    "The final classifier has improved based on additions.\n",
    "the dev_test_Set and test_set results are similar which would be expected "
   ]
  }
 ],
 "metadata": {
  "kernelspec": {
   "display_name": "Python 3",
   "language": "python",
   "name": "python3"
  },
  "language_info": {
   "codemirror_mode": {
    "name": "ipython",
    "version": 3
   },
   "file_extension": ".py",
   "mimetype": "text/x-python",
   "name": "python",
   "nbconvert_exporter": "python",
   "pygments_lexer": "ipython3",
   "version": "3.7.1"
  }
 },
 "nbformat": 4,
 "nbformat_minor": 2
}
