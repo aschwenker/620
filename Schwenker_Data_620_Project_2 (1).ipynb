{
 "cells": [
  {
   "cell_type": "markdown",
   "metadata": {},
   "source": [
    "I took the hero dataset that I used for the previous assignment and add random weights so taht the island method could be applied. I downloaded and hosted the data on my github and call it in from the github URL"
   ]
  },
  {
   "cell_type": "code",
   "execution_count": 10,
   "metadata": {},
   "outputs": [
    {
     "data": {
      "text/plain": [
       "[19029, 8, 11, 2, 2, 2, 2, 2, 2, 2, 2, 2, 3, 2, 2, 4, 2, 2, 2, 3, 2, 2]"
      ]
     },
     "execution_count": 10,
     "metadata": {},
     "output_type": "execute_result"
    }
   ],
   "source": [
    "\n",
    "import pandas as pd\n",
    "import matplotlib.pyplot as plt\n",
    "import networkx as nx\n",
    "from scipy import stats\n",
    "import numpy as np\n",
    "import random\n",
    "\n",
    "def trim_edges(g,weight=1):\n",
    "    g2=nx.Graph()\n",
    "    for f, to, edata in g.edges(data=True):\n",
    "        if edata['weight'] > weight:\n",
    "            g2.add_edge(f,to,edata)\n",
    "    return g2\n",
    "\n",
    "def tidy(g, weight):\n",
    "    g_temp = nx.Graph()\n",
    "    edge_bunch2 = [i for i in g.edges(data=True) if i[2]['weight'] > weight]    \n",
    "    g_temp.add_edges_from(edge_bunch2)\n",
    "    return g_temp\n",
    "\n",
    "def island_method(g,iterations=5):\n",
    "    weights = [edata['weight'] for f,to,edata in g.edges(data=True)]\n",
    "    mn=int(min(weights))\n",
    "    mx=int(max(weights))\n",
    "    step=int((mx-mn)/iterations)\n",
    "    return [[threshold, trim_edges(g,threshold)] for threshold in range(mn,mx,step)]\n",
    "\n",
    "edge_data=pd.read_csv(\"https://raw.githubusercontent.com/aschwenker/620/master/hero_edges.csv\")\n",
    "node_data=pd.read_csv(\"https://raw.githubusercontent.com/aschwenker/620/master/hero_nodes.csv\")\n",
    "#edge_data = edge_data.iloc[:10]\n",
    "#node_data = node_data.iloc[:10]\n",
    "edge_tuples = [tuple(x) for x in edge_data.values]\n",
    "node_tuples = [tuple(x) for x in node_data.values]\n",
    "G = nx.Graph()\n",
    "\n",
    "G.add_edges_from(edge_tuples)\n",
    "G.add_nodes_from(node_tuples)\n",
    "for (u, v) in G.edges():\n",
    "    G.edges[u,v]['weight'] = random.randint(0,10)\n",
    "big_subg = [len(i) for i in nx.connected_component_subgraphs(G)]\n",
    "big_subg = [len(i) for i in nx.connected_component_subgraphs(G) if len(i) > 1]\n",
    "\n",
    "big_subg"
   ]
  },
  {
   "cell_type": "markdown",
   "metadata": {},
   "source": [
    "From this we can see that there are many small subgraphs and 1 larger one --  19029. Similar to the text book example this one large subgraph is still very large so we need to break it down further\n",
    "\n",
    "Next I applied a function similar to the text book version to reduce the size of the network based on weight\n",
    "after that I calculated the degree of centrality for the two types of nodes and compared them using the table.\n"
   ]
  },
  {
   "cell_type": "code",
   "execution_count": 20,
   "metadata": {},
   "outputs": [
    {
     "name": "stderr",
     "output_type": "stream",
     "text": [
      "C:\\Users\\aschwenker\\AppData\\Local\\Continuum\\anaconda3\\lib\\site-packages\\ipykernel_launcher.py:7: SettingWithCopyWarning: \n",
      "A value is trying to be set on a copy of a slice from a DataFrame.\n",
      "Try using .loc[row_indexer,col_indexer] = value instead\n",
      "\n",
      "See the caveats in the documentation: http://pandas.pydata.org/pandas-docs/stable/user_guide/indexing.html#returning-a-view-versus-a-copy\n",
      "  import sys\n"
     ]
    },
    {
     "name": "stdout",
     "output_type": "stream",
     "text": [
      "    type     degcen\n",
      "0  comic   6.371320\n",
      "1   hero  12.714991\n"
     ]
    }
   ],
   "source": [
    "\n",
    "island = tidy(G,1)\n",
    "\n",
    "\n",
    "island_nodes = list(set(island))\n",
    "island_node_data = node_data.loc[(node_data[\"node\"].isin(island_nodes))]\n",
    "island_node_data['degcen'] = 0\n",
    "deg = nx.degree(island) \n",
    "\n",
    "\n",
    "for index, row in island_node_data.iterrows():\n",
    "    island_node_data.loc[island_node_data['node'] == row['node'], 'degcen'] = deg[row['node']]\n",
    "\n",
    "\n",
    "node_data_deg = island_node_data.groupby(\"type\")['degcen'].mean().reset_index()\n",
    "\n",
    "\n",
    "result = pd.concat([node_data_deg],axis = 1)\n",
    "result = result.loc[:,~result.columns.duplicated()]\n",
    "print(result)"
   ]
  },
  {
   "cell_type": "markdown",
   "metadata": {},
   "source": [
    "from this we can see that nodes for heros are much more central than comics in this subset of the data"
   ]
  },
  {
   "cell_type": "code",
   "execution_count": null,
   "metadata": {},
   "outputs": [],
   "source": []
  }
 ],
 "metadata": {
  "kernelspec": {
   "display_name": "Python 3",
   "language": "python",
   "name": "python3"
  },
  "language_info": {
   "codemirror_mode": {
    "name": "ipython",
    "version": 3
   },
   "file_extension": ".py",
   "mimetype": "text/x-python",
   "name": "python",
   "nbconvert_exporter": "python",
   "pygments_lexer": "ipython3",
   "version": "3.7.1"
  }
 },
 "nbformat": 4,
 "nbformat_minor": 2
}
